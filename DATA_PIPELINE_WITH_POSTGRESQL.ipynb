{
  "nbformat": 4,
  "nbformat_minor": 0,
  "metadata": {
    "colab": {
      "provenance": []
    },
    "kernelspec": {
      "name": "python3",
      "display_name": "Python 3"
    },
    "language_info": {
      "name": "python"
    }
  },
  "cells": [
    {
      "cell_type": "code",
      "execution_count": 25,
      "metadata": {
        "id": "p2P5St3ZnX0o"
      },
      "outputs": [],
      "source": [
        "import pandas as pd\n",
        "import psycopg2\n",
        "import sqlite3\n",
        "from sklearn.linear_model import LogisticRegression\n",
        "\n",
        "equipment_data = pd.read_csv('equipment_sensor.csv')\n",
        "maintenance_data = pd.read_csv('maintenance_records.csv')\n",
        "network_data = pd.read_csv('network_sensor.csv')"
      ]
    },
    {
      "cell_type": "code",
      "source": [
        "#Removing duplicates and fixing missing data\n",
        "equipment_data.drop_duplicates(inplace=True)\n",
        "equipment_data.fillna(method='ffill', inplace=True)\n",
        "\n",
        "maintenance_data.drop_duplicates(inplace=True)\n",
        "maintenance_data.fillna(method='ffill', inplace=True)\n",
        "\n",
        "network_data.drop_duplicates(inplace=True)\n",
        "network_data.fillna(method='ffill', inplace=True)\n",
        "\n"
      ],
      "metadata": {
        "id": "zbBcV_8AqLwM"
      },
      "execution_count": null,
      "outputs": []
    },
    {
      "cell_type": "code",
      "source": [
        "# Normalizing data\n",
        "equipment_data['date'] = pd.to_datetime(equipment_data['date'])\n",
        "network_data['date'] = pd.to_datetime(network_data['date'])\n",
        "maintenance_data['date'] = pd.to_datetime(maintenance_data['date'])"
      ],
      "metadata": {
        "id": "Wlp7O4nGNdb5"
      },
      "execution_count": null,
      "outputs": []
    },
    {
      "cell_type": "code",
      "source": [
        "# Aggregating data\n",
        "equipment_failures = equipment_data.groupby('ID').count()['sensor_reading']\n",
        "average_time_between_failures = equipment_data.groupby('ID')['date'].apply(lambda x: x.diff().mean())\n"
      ],
      "metadata": {
        "id": "jYOyPVUxNlkV"
      },
      "execution_count": null,
      "outputs": []
    },
    {
      "cell_type": "code",
      "source": [
        "# Joining data\n",
        "equipment_maintenance = pd.merge(equipment_data, maintenance_data, on='ID', how='left')\n",
        "equipment_maintenance"
      ],
      "metadata": {
        "colab": {
          "base_uri": "https://localhost:8080/",
          "height": 237
        },
        "id": "Oz8t_jpnOGF0",
        "outputId": "2b54b6c2-2ca5-4b9f-8b09-95d4aa79e0ad"
      },
      "execution_count": null,
      "outputs": [
        {
          "output_type": "execute_result",
          "data": {
            "text/plain": [
              "   ID     date_x   time_x  sensor_reading     date_y    time_y  equipment_ID  \\\n",
              "0   1 2022-03-01  8:00:00            26.7 2022-03-01  10:00:00             1   \n",
              "1   1 2022-03-01  8:15:00            28.4 2022-03-01  10:00:00             1   \n",
              "2   1 2022-03-01  8:30:00            27.8 2022-03-01  10:00:00             1   \n",
              "3   2 2022-03-01  8:00:00            99.1 2022-03-02  14:30:00             2   \n",
              "4   2 2022-03-01  8:15:00            97.5 2022-03-02  14:30:00             2   \n",
              "5   2 2022-03-01  8:30:00            98.2 2022-03-02  14:30:00             2   \n",
              "\n",
              "         maintenance_type  \n",
              "0  Preventive Maintenance  \n",
              "1  Preventive Maintenance  \n",
              "2  Preventive Maintenance  \n",
              "3  Corrective Maintenance  \n",
              "4  Corrective Maintenance  \n",
              "5  Corrective Maintenance  "
            ],
            "text/html": [
              "\n",
              "  <div id=\"df-dfe75add-8e4d-4266-af90-2bf9827de836\">\n",
              "    <div class=\"colab-df-container\">\n",
              "      <div>\n",
              "<style scoped>\n",
              "    .dataframe tbody tr th:only-of-type {\n",
              "        vertical-align: middle;\n",
              "    }\n",
              "\n",
              "    .dataframe tbody tr th {\n",
              "        vertical-align: top;\n",
              "    }\n",
              "\n",
              "    .dataframe thead th {\n",
              "        text-align: right;\n",
              "    }\n",
              "</style>\n",
              "<table border=\"1\" class=\"dataframe\">\n",
              "  <thead>\n",
              "    <tr style=\"text-align: right;\">\n",
              "      <th></th>\n",
              "      <th>ID</th>\n",
              "      <th>date_x</th>\n",
              "      <th>time_x</th>\n",
              "      <th>sensor_reading</th>\n",
              "      <th>date_y</th>\n",
              "      <th>time_y</th>\n",
              "      <th>equipment_ID</th>\n",
              "      <th>maintenance_type</th>\n",
              "    </tr>\n",
              "  </thead>\n",
              "  <tbody>\n",
              "    <tr>\n",
              "      <th>0</th>\n",
              "      <td>1</td>\n",
              "      <td>2022-03-01</td>\n",
              "      <td>8:00:00</td>\n",
              "      <td>26.7</td>\n",
              "      <td>2022-03-01</td>\n",
              "      <td>10:00:00</td>\n",
              "      <td>1</td>\n",
              "      <td>Preventive Maintenance</td>\n",
              "    </tr>\n",
              "    <tr>\n",
              "      <th>1</th>\n",
              "      <td>1</td>\n",
              "      <td>2022-03-01</td>\n",
              "      <td>8:15:00</td>\n",
              "      <td>28.4</td>\n",
              "      <td>2022-03-01</td>\n",
              "      <td>10:00:00</td>\n",
              "      <td>1</td>\n",
              "      <td>Preventive Maintenance</td>\n",
              "    </tr>\n",
              "    <tr>\n",
              "      <th>2</th>\n",
              "      <td>1</td>\n",
              "      <td>2022-03-01</td>\n",
              "      <td>8:30:00</td>\n",
              "      <td>27.8</td>\n",
              "      <td>2022-03-01</td>\n",
              "      <td>10:00:00</td>\n",
              "      <td>1</td>\n",
              "      <td>Preventive Maintenance</td>\n",
              "    </tr>\n",
              "    <tr>\n",
              "      <th>3</th>\n",
              "      <td>2</td>\n",
              "      <td>2022-03-01</td>\n",
              "      <td>8:00:00</td>\n",
              "      <td>99.1</td>\n",
              "      <td>2022-03-02</td>\n",
              "      <td>14:30:00</td>\n",
              "      <td>2</td>\n",
              "      <td>Corrective Maintenance</td>\n",
              "    </tr>\n",
              "    <tr>\n",
              "      <th>4</th>\n",
              "      <td>2</td>\n",
              "      <td>2022-03-01</td>\n",
              "      <td>8:15:00</td>\n",
              "      <td>97.5</td>\n",
              "      <td>2022-03-02</td>\n",
              "      <td>14:30:00</td>\n",
              "      <td>2</td>\n",
              "      <td>Corrective Maintenance</td>\n",
              "    </tr>\n",
              "    <tr>\n",
              "      <th>5</th>\n",
              "      <td>2</td>\n",
              "      <td>2022-03-01</td>\n",
              "      <td>8:30:00</td>\n",
              "      <td>98.2</td>\n",
              "      <td>2022-03-02</td>\n",
              "      <td>14:30:00</td>\n",
              "      <td>2</td>\n",
              "      <td>Corrective Maintenance</td>\n",
              "    </tr>\n",
              "  </tbody>\n",
              "</table>\n",
              "</div>\n",
              "      <button class=\"colab-df-convert\" onclick=\"convertToInteractive('df-dfe75add-8e4d-4266-af90-2bf9827de836')\"\n",
              "              title=\"Convert this dataframe to an interactive table.\"\n",
              "              style=\"display:none;\">\n",
              "        \n",
              "  <svg xmlns=\"http://www.w3.org/2000/svg\" height=\"24px\"viewBox=\"0 0 24 24\"\n",
              "       width=\"24px\">\n",
              "    <path d=\"M0 0h24v24H0V0z\" fill=\"none\"/>\n",
              "    <path d=\"M18.56 5.44l.94 2.06.94-2.06 2.06-.94-2.06-.94-.94-2.06-.94 2.06-2.06.94zm-11 1L8.5 8.5l.94-2.06 2.06-.94-2.06-.94L8.5 2.5l-.94 2.06-2.06.94zm10 10l.94 2.06.94-2.06 2.06-.94-2.06-.94-.94-2.06-.94 2.06-2.06.94z\"/><path d=\"M17.41 7.96l-1.37-1.37c-.4-.4-.92-.59-1.43-.59-.52 0-1.04.2-1.43.59L10.3 9.45l-7.72 7.72c-.78.78-.78 2.05 0 2.83L4 21.41c.39.39.9.59 1.41.59.51 0 1.02-.2 1.41-.59l7.78-7.78 2.81-2.81c.8-.78.8-2.07 0-2.86zM5.41 20L4 18.59l7.72-7.72 1.47 1.35L5.41 20z\"/>\n",
              "  </svg>\n",
              "      </button>\n",
              "      \n",
              "  <style>\n",
              "    .colab-df-container {\n",
              "      display:flex;\n",
              "      flex-wrap:wrap;\n",
              "      gap: 12px;\n",
              "    }\n",
              "\n",
              "    .colab-df-convert {\n",
              "      background-color: #E8F0FE;\n",
              "      border: none;\n",
              "      border-radius: 50%;\n",
              "      cursor: pointer;\n",
              "      display: none;\n",
              "      fill: #1967D2;\n",
              "      height: 32px;\n",
              "      padding: 0 0 0 0;\n",
              "      width: 32px;\n",
              "    }\n",
              "\n",
              "    .colab-df-convert:hover {\n",
              "      background-color: #E2EBFA;\n",
              "      box-shadow: 0px 1px 2px rgba(60, 64, 67, 0.3), 0px 1px 3px 1px rgba(60, 64, 67, 0.15);\n",
              "      fill: #174EA6;\n",
              "    }\n",
              "\n",
              "    [theme=dark] .colab-df-convert {\n",
              "      background-color: #3B4455;\n",
              "      fill: #D2E3FC;\n",
              "    }\n",
              "\n",
              "    [theme=dark] .colab-df-convert:hover {\n",
              "      background-color: #434B5C;\n",
              "      box-shadow: 0px 1px 3px 1px rgba(0, 0, 0, 0.15);\n",
              "      filter: drop-shadow(0px 1px 2px rgba(0, 0, 0, 0.3));\n",
              "      fill: #FFFFFF;\n",
              "    }\n",
              "  </style>\n",
              "\n",
              "      <script>\n",
              "        const buttonEl =\n",
              "          document.querySelector('#df-dfe75add-8e4d-4266-af90-2bf9827de836 button.colab-df-convert');\n",
              "        buttonEl.style.display =\n",
              "          google.colab.kernel.accessAllowed ? 'block' : 'none';\n",
              "\n",
              "        async function convertToInteractive(key) {\n",
              "          const element = document.querySelector('#df-dfe75add-8e4d-4266-af90-2bf9827de836');\n",
              "          const dataTable =\n",
              "            await google.colab.kernel.invokeFunction('convertToInteractive',\n",
              "                                                     [key], {});\n",
              "          if (!dataTable) return;\n",
              "\n",
              "          const docLinkHtml = 'Like what you see? Visit the ' +\n",
              "            '<a target=\"_blank\" href=https://colab.research.google.com/notebooks/data_table.ipynb>data table notebook</a>'\n",
              "            + ' to learn more about interactive tables.';\n",
              "          element.innerHTML = '';\n",
              "          dataTable['output_type'] = 'display_data';\n",
              "          await google.colab.output.renderOutput(dataTable, element);\n",
              "          const docLink = document.createElement('div');\n",
              "          docLink.innerHTML = docLinkHtml;\n",
              "          element.appendChild(docLink);\n",
              "        }\n",
              "      </script>\n",
              "    </div>\n",
              "  </div>\n",
              "  "
            ]
          },
          "metadata": {},
          "execution_count": 5
        }
      ]
    },
    {
      "cell_type": "code",
      "source": [
        "print(equipment_maintenance.columns)"
      ],
      "metadata": {
        "colab": {
          "base_uri": "https://localhost:8080/"
        },
        "id": "b3wNgaGC4mYT",
        "outputId": "b8a186a0-811f-4d0a-c196-e9f394565f70"
      },
      "execution_count": 27,
      "outputs": [
        {
          "output_type": "stream",
          "name": "stdout",
          "text": [
            "Index(['ID', 'date_x', 'time_x', 'sensor_reading', 'date_y', 'time_y',\n",
            "       'equipment_ID', 'maintenance_type'],\n",
            "      dtype='object')\n"
          ]
        }
      ]
    },
    {
      "cell_type": "code",
      "source": [
        "# Getting the total number of equipment failures and the average time between failures:\n",
        "equipment_data['time'] = pd.to_datetime(equipment_data['time'])\n",
        "num_failures = equipment_data[equipment_data['sensor_reading'] == 'failure'].groupby('ID').count()\n",
        "avg_time_between_failures = equipment_data.groupby('ID')['time'].diff().mean()\n",
        "print(avg_time_between_failures) "
      ],
      "metadata": {
        "colab": {
          "base_uri": "https://localhost:8080/"
        },
        "id": "6JSI4u4yq_6U",
        "outputId": "1d8cf8b7-baf2-437e-9a68-76a6c7631dd0"
      },
      "execution_count": null,
      "outputs": [
        {
          "output_type": "stream",
          "name": "stdout",
          "text": [
            "0 days 00:15:00\n"
          ]
        }
      ]
    },
    {
      "cell_type": "code",
      "source": [
        "!curl ipecho.net/plain"
      ],
      "metadata": {
        "colab": {
          "base_uri": "https://localhost:8080/"
        },
        "id": "2T3UnZNKw0Gk",
        "outputId": "25a3cd89-98de-4907-8f35-97ef9b6770ec"
      },
      "execution_count": 19,
      "outputs": [
        {
          "output_type": "stream",
          "name": "stdout",
          "text": [
            "34.73.18.189"
          ]
        }
      ]
    },
    {
      "cell_type": "code",
      "source": [
        "!pip install psycopg2"
      ],
      "metadata": {
        "colab": {
          "base_uri": "https://localhost:8080/"
        },
        "id": "aNrVPw-YyEb8",
        "outputId": "20b2c922-b66e-4c5c-92de-3407893beb97"
      },
      "execution_count": 20,
      "outputs": [
        {
          "output_type": "stream",
          "name": "stdout",
          "text": [
            "Looking in indexes: https://pypi.org/simple, https://us-python.pkg.dev/colab-wheels/public/simple/\n",
            "Requirement already satisfied: psycopg2 in /usr/local/lib/python3.9/dist-packages (2.9.5)\n"
          ]
        }
      ]
    },
    {
      "cell_type": "code",
      "source": [
        "conn = psycopg2.connect(\n",
        "    host=\"34.93.255.71\",\n",
        "    database=\"Postgres_db\",\n",
        "    user=\"students1\",\n",
        "    password=\"Test12\"\n",
        ")"
      ],
      "metadata": {
        "id": "CnluLq-fzyHb"
      },
      "execution_count": 22,
      "outputs": []
    },
    {
      "cell_type": "code",
      "source": [
        "# establish a connection to the database\n",
        "conn = sqlite3.connect('Postgres_db')\n",
        "\n",
        "# create a cursor object\n",
        "cur = conn.cursor()\n",
        "\n",
        "# create a table for the data\n",
        "cur.execute(\"\"\"\n",
        "    CREATE TABLE IF NOT EXISTS equipment_maintenance (\n",
        "        id INTEGER PRIMARY KEY,\n",
        "        equipment_id INTEGER,\n",
        "        date_x DATE,\n",
        "        maintenance_type TEXT\n",
        "    );\n",
        "\"\"\")\n",
        "\n",
        "# insert the data into the table\n",
        "equipment_maintenance.to_sql(name=\"equipment_maintenance\", con=conn, if_exists=\"append\", index=False)\n",
        "\n",
        "# commit the changes to the database\n",
        "conn.commit()\n",
        "\n",
        "# close the cursor and the connection\n",
        "cur.close()\n",
        "conn.close()"
      ],
      "metadata": {
        "id": "RwBmWeVd61Zi"
      },
      "execution_count": null,
      "outputs": []
    }
  ]
}